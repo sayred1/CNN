{
 "cells": [
  {
   "cell_type": "markdown",
   "metadata": {},
   "source": [
    "# 1) Function testing for conv layers"
   ]
  },
  {
   "cell_type": "markdown",
   "metadata": {},
   "source": [
    "## Function testing for the case where the image depth of the input image is equal to the image depth of the convolutional output."
   ]
  },
  {
   "cell_type": "code",
   "execution_count": 112,
   "metadata": {},
   "outputs": [],
   "source": [
    "import numpy as np\n",
    "np.random.seed(0)"
   ]
  },
  {
   "cell_type": "code",
   "execution_count": 113,
   "metadata": {},
   "outputs": [
    {
     "data": {
      "text/plain": [
       "matrix([[ 1.8,  0.4,  1. ,  2.2],\n",
       "        [ 1.9, -1. ,  1. , -0.2],\n",
       "        [-0.1,  0.4,  0.1,  1.5],\n",
       "        [ 0.8,  0.1,  0.4,  0.3]])"
      ]
     },
     "execution_count": 113,
     "metadata": {},
     "output_type": "execute_result"
    }
   ],
   "source": [
    "\n",
    "\n",
    "# matrix to be convolved\n",
    "X = np.random.randn(1,4,4)\n",
    "X = np.round(X, 1)\n",
    "np.matrix(X)"
   ]
  },
  {
   "cell_type": "code",
   "execution_count": 99,
   "metadata": {},
   "outputs": [
    {
     "data": {
      "text/plain": [
       "matrix([[ 1.5, -0.2],\n",
       "        [ 0.3, -0.9]])"
      ]
     },
     "execution_count": 99,
     "metadata": {},
     "output_type": "execute_result"
    }
   ],
   "source": [
    "# (2 x 2) convolution kernel w/ stride = 2\n",
    "stride = 2\n",
    "k = np.random.randn(1, 1, 2, 2)\n",
    "k = np.round(k, 1)\n",
    "np.matrix(k)"
   ]
  },
  {
   "cell_type": "code",
   "execution_count": 100,
   "metadata": {},
   "outputs": [
    {
     "data": {
      "text/plain": [
       "(1, 2, 2)"
      ]
     },
     "execution_count": 100,
     "metadata": {},
     "output_type": "execute_result"
    }
   ],
   "source": [
    "# convolved output matrix\n",
    "inputDim = X.shape[1]\n",
    "kernelDepth, prevKernelDepth, kernelHeight, kernelWidth = k.shape\n",
    "\n",
    "convHeight = convWidth = (inputDim - kernelHeight)/stride + 1\n",
    "convDepth = kernelDepth\n",
    "\n",
    "if convHeight.is_integer() == False:\n",
    "    raise NotImplementedError\n",
    "else:\n",
    "    convHeight = int(convHeight)\n",
    "    convWidth = int(convWidth)\n",
    "    \n",
    "convInit = np.zeros((convDepth, convHeight, convWidth))\n",
    "convInit.shape"
   ]
  },
  {
   "cell_type": "code",
   "execution_count": 101,
   "metadata": {},
   "outputs": [
    {
     "data": {
      "text/plain": [
       "array([[[ 4.09,  1.54],\n",
       "        [-0.08, -0.3 ]]])"
      ]
     },
     "execution_count": 101,
     "metadata": {},
     "output_type": "execute_result"
    }
   ],
   "source": [
    "# Expected output:\n",
    "convInit[0,0,0] = X[0,0,0] * k[0,0,0,0] + X[0,0,1] * k[0,0,0,1] + X[0,1,0] * k[0,0,1,0] + X[0,1,1] * k[0,0,1,1]\n",
    "convInit[0,0,1] = X[0,0,2] * k[0,0,0,0] + X[0,0,3] * k[0,0,0,1] + X[0,1,2] * k[0,0,1,0] + X[0,1,3] * k[0,0,1,1]\n",
    "convInit[0,1,0] = X[0,2,0] * k[0,0,0,0] + X[0,2,1] * k[0,0,0,1] + X[0,3,0] * k[0,0,1,0] + X[0,3,1] * k[0,0,1,1]\n",
    "convInit[0,1,1] = X[0,2,2] * k[0,0,0,0] + X[0,2,3] * k[0,0,0,1] + X[0,3,2] * k[0,0,1,0] + X[0,3,3] * k[0,0,1,1]\n",
    "\n",
    "convExpected = convInit\n",
    "convExpected\n"
   ]
  },
  {
   "cell_type": "code",
   "execution_count": 102,
   "metadata": {},
   "outputs": [],
   "source": [
    "def convolve(image, kernel, stride, initConv):\n",
    "    \n",
    "    \"\"\"\n",
    "    arguments: image - input into convolution layer (X or pool) (curr. depth, height, width, prev. depth)\n",
    "               kernel - convolutional kernel to perform feature mapping (curr. depth, pre. depth, height, width)\n",
    "               stride - number of slides in the x and y directions of the array per filter (int)\n",
    "    description: performs convolution over X or pooling inputs\n",
    "    returns: convolve (depth, height, width)\n",
    "    \"\"\"\n",
    "    \n",
    "    # obtain shape of image and kernel\n",
    "    filtInput, heightInput, widthInput = image.shape\n",
    "    filtK, _, heightK, widthK = kernel.shape\n",
    "    \n",
    "    conv = initConv\n",
    "\n",
    "    for i in range(filtK):\n",
    "        height = 0\n",
    "        for j in range(heightK): \n",
    "            width = 0\n",
    "            for k in range(widthK):\n",
    "                imgSlice = image[:,height:height+heightK,width:width+widthK]\n",
    "                conv[i,j,k] = np.sum(kernel[i]*imgSlice) \n",
    "                width += stride\n",
    "            height += stride\n",
    "\n",
    "    return conv\n"
   ]
  },
  {
   "cell_type": "code",
   "execution_count": 103,
   "metadata": {},
   "outputs": [
    {
     "data": {
      "text/plain": [
       "array([[[ True,  True],\n",
       "        [ True,  True]]])"
      ]
     },
     "execution_count": 103,
     "metadata": {},
     "output_type": "execute_result"
    }
   ],
   "source": [
    "# function testing\n",
    "\n",
    "conv1 = convolve(X, k, 2, convInit)\n",
    "conv1 == convExpected"
   ]
  },
  {
   "cell_type": "markdown",
   "metadata": {},
   "source": [
    "## Function testing for the case where the image depth of the input image is not equal to the image depth of the convolutional output."
   ]
  },
  {
   "cell_type": "code",
   "execution_count": 104,
   "metadata": {},
   "outputs": [
    {
     "data": {
      "text/plain": [
       "matrix([[-2.6,  0.7,  0.9, -0.7],\n",
       "        [ 2.3, -1.5,  0. , -0.2],\n",
       "        [ 1.5,  1.5,  0.2,  0.4],\n",
       "        [-0.9, -2. , -0.3,  0.2]])"
      ]
     },
     "execution_count": 104,
     "metadata": {},
     "output_type": "execute_result"
    }
   ],
   "source": [
    "import numpy as np\n",
    "\n",
    "# matrix to be convolved\n",
    "X = np.random.randn(1,4,4)\n",
    "X = np.round(X, 1)\n",
    "np.matrix(X)"
   ]
  },
  {
   "cell_type": "code",
   "execution_count": 105,
   "metadata": {},
   "outputs": [
    {
     "data": {
      "text/plain": [
       "array([[[[ 1.2,  1.2],\n",
       "         [-0.4, -0.3]]],\n",
       "\n",
       "\n",
       "       [[[-1. , -1.4],\n",
       "         [-1.7,  2. ]]],\n",
       "\n",
       "\n",
       "       [[[-0.5, -0.4],\n",
       "         [-1.3,  0.8]]]])"
      ]
     },
     "execution_count": 105,
     "metadata": {},
     "output_type": "execute_result"
    }
   ],
   "source": [
    "# (2 x 2) convolution kernel w/ stride = 2\n",
    "stride = 2\n",
    "k = np.random.randn(3, 1, 2, 2)\n",
    "k = np.round(k, 1)\n",
    "k"
   ]
  },
  {
   "cell_type": "code",
   "execution_count": 106,
   "metadata": {},
   "outputs": [
    {
     "data": {
      "text/plain": [
       "(3, 2, 2)"
      ]
     },
     "execution_count": 106,
     "metadata": {},
     "output_type": "execute_result"
    }
   ],
   "source": [
    "# convolved output matrix\n",
    "inputDim = X.shape[1]\n",
    "kernelDepth, prevKernelDepth, kernelHeight, kernelWidth = k.shape\n",
    "\n",
    "convHeight = convWidth = (inputDim - kernelHeight)/stride + 1\n",
    "convDepth = kernelDepth\n",
    "\n",
    "if convHeight.is_integer() == False:\n",
    "    raise NotImplementedError\n",
    "else:\n",
    "    convHeight = int(convHeight)\n",
    "    convWidth = int(convWidth)\n",
    "    \n",
    "convInit = np.zeros((convDepth, convHeight, convWidth))\n",
    "convInit.shape"
   ]
  },
  {
   "cell_type": "code",
   "execution_count": 107,
   "metadata": {},
   "outputs": [],
   "source": [
    "# Expected output\n",
    "convInit[0,0,0] = X[0,0,0] * k[0,0,0,0] + X[0,0,1] * k[0,0,0,1] + X[0,1,0] * k[0,0,1,0] + X[0,1,1] * k[0,0,1,1]\n",
    "convInit[0,0,1] = X[0,0,2] * k[0,0,0,0] + X[0,0,3] * k[0,0,0,1] + X[0,1,2] * k[0,0,1,0] + X[0,1,3] * k[0,0,1,1]\n",
    "convInit[0,1,0] = X[0,2,0] * k[0,0,0,0] + X[0,2,1] * k[0,0,0,1] + X[0,3,0] * k[0,0,1,0] + X[0,3,1] * k[0,0,1,1]\n",
    "convInit[0,1,1] = X[0,2,2] * k[0,0,0,0] + X[0,2,3] * k[0,0,0,1] + X[0,3,2] * k[0,0,1,0] + X[0,3,3] * k[0,0,1,1]\n",
    "convInit[1,0,0] = X[0,0,0] * k[1,0,0,0] + X[0,0,1] * k[1,0,0,1] + X[0,1,0] * k[1,0,1,0] + X[0,1,1] * k[1,0,1,1]\n",
    "convInit[1,0,1] = X[0,0,2] * k[1,0,0,0] + X[0,0,3] * k[1,0,0,1] + X[0,1,2] * k[1,0,1,0] + X[0,1,3] * k[1,0,1,1]\n",
    "convInit[1,1,0] = X[0,2,0] * k[1,0,0,0] + X[0,2,1] * k[1,0,0,1] + X[0,3,0] * k[1,0,1,0] + X[0,3,1] * k[1,0,1,1]\n",
    "convInit[1,1,1] = X[0,2,2] * k[1,0,0,0] + X[0,2,3] * k[1,0,0,1] + X[0,3,2] * k[1,0,1,0] + X[0,3,3] * k[1,0,1,1]\n",
    "convInit[2,0,0] = X[0,0,0] * k[2,0,0,0] + X[0,0,1] * k[2,0,0,1] + X[0,1,0] * k[2,0,1,0] + X[0,1,1] * k[2,0,1,1]\n",
    "convInit[2,0,1] = X[0,0,2] * k[2,0,0,0] + X[0,0,3] * k[2,0,0,1] + X[0,1,2] * k[2,0,1,0] + X[0,1,3] * k[2,0,1,1]\n",
    "convInit[2,1,0] = X[0,2,0] * k[2,0,0,0] + X[0,2,1] * k[2,0,0,1] + X[0,3,0] * k[2,0,1,0] + X[0,3,1] * k[2,0,1,1]\n",
    "convInit[2,1,1] = X[0,2,2] * k[2,0,0,0] + X[0,2,3] * k[2,0,0,1] + X[0,3,2] * k[2,0,1,0] + X[0,3,3] * k[2,0,1,1]\n",
    "\n",
    "convExpected = convInit"
   ]
  },
  {
   "cell_type": "code",
   "execution_count": 108,
   "metadata": {},
   "outputs": [
    {
     "data": {
      "text/plain": [
       "array([[[ True,  True],\n",
       "        [ True,  True]],\n",
       "\n",
       "       [[ True,  True],\n",
       "        [ True,  True]],\n",
       "\n",
       "       [[ True,  True],\n",
       "        [ True,  True]]])"
      ]
     },
     "execution_count": 108,
     "metadata": {},
     "output_type": "execute_result"
    }
   ],
   "source": [
    "# function testing\n",
    "\n",
    "conv2 = convolve(X, k, 2, convInit)\n",
    "conv2 == convExpected"
   ]
  },
  {
   "cell_type": "markdown",
   "metadata": {},
   "source": [
    "# 2) Function testing for pooling layer"
   ]
  },
  {
   "cell_type": "markdown",
   "metadata": {},
   "source": [
    "## Function testing for the case where the image depth of the conv image is equal to one"
   ]
  },
  {
   "cell_type": "code",
   "execution_count": 162,
   "metadata": {},
   "outputs": [],
   "source": [
    "np.random.seed(1)"
   ]
  },
  {
   "cell_type": "code",
   "execution_count": 163,
   "metadata": {},
   "outputs": [
    {
     "data": {
      "text/plain": [
       "matrix([[ 1.6, -0.6, -0.5],\n",
       "        [-1.1,  0.9, -2.3],\n",
       "        [ 1.7, -0.8,  0.3]])"
      ]
     },
     "execution_count": 163,
     "metadata": {},
     "output_type": "execute_result"
    }
   ],
   "source": [
    "# define a larger convolution layer\n",
    "conv3 = np.random.randn(1, 3, 3)\n",
    "conv3 = np.round(conv3, 1)\n",
    "np.matrix(conv3)"
   ]
  },
  {
   "cell_type": "code",
   "execution_count": 164,
   "metadata": {},
   "outputs": [
    {
     "data": {
      "text/plain": [
       "(1, 2, 2)"
      ]
     },
     "execution_count": 164,
     "metadata": {},
     "output_type": "execute_result"
    }
   ],
   "source": [
    "# define pooling filter size and stride, and  initialize output\n",
    "\n",
    "convDepth, convHeight, convWidth = conv3.shape\n",
    "filterHeight = filterWidth = 2\n",
    "stride = 1\n",
    "\n",
    "poolHeight = poolWidth = (convHeight - filterHeight)/stride + 1\n",
    "\n",
    "if poolHeight.is_integer() == False:\n",
    "    raise NotImplementedError\n",
    "else:\n",
    "    poolHeight = int(poolHeight)\n",
    "    poolWidth = int(poolWidth)\n",
    "\n",
    "initPool = np.zeros((convDepth,poolHeight,poolWidth))\n",
    "initPool.shape"
   ]
  },
  {
   "cell_type": "code",
   "execution_count": 168,
   "metadata": {},
   "outputs": [],
   "source": [
    "poolExpected = [[1.6, 0.9],\n",
    "                [1.7, 0.9]]"
   ]
  },
  {
   "cell_type": "code",
   "execution_count": 169,
   "metadata": {},
   "outputs": [],
   "source": [
    "def pool(conv, filSize, stride, initPool):\n",
    "    \n",
    "    \"\"\"\n",
    "    arguments: conv - convolution layer (depth, prev. depth, height, width)\n",
    "               filSize - size of pooling filter (height, width)\n",
    "               stride - number of slides in the x and y directions of the array per filter (int)\n",
    "    description: performs maxpooling over convolution inputs\n",
    "    returns: maxpool (depth, height, width)\n",
    "    \"\"\"\n",
    "    pool = initPool\n",
    "    convDepth, convHeight, convWidth = conv.shape\n",
    "    \n",
    "    _, heightImages,widthImages = pool.shape\n",
    "    filHeight, filWidth = filSize\n",
    "            \n",
    "    for i in range(convDepth):\n",
    "        height = 0\n",
    "        for j in range(heightImages):\n",
    "            width = 0\n",
    "            for k in range(widthImages):\n",
    "                temp = conv[i,height:height+filHeight,width:width+filWidth]\n",
    "                pool[i,j,k] = np.max(temp)                    \n",
    "                width+=stride\n",
    "            height+=stride\n",
    "    return pool\n"
   ]
  },
  {
   "cell_type": "code",
   "execution_count": 170,
   "metadata": {},
   "outputs": [
    {
     "data": {
      "text/plain": [
       "array([[[ True,  True],\n",
       "        [ True,  True]]])"
      ]
     },
     "execution_count": 170,
     "metadata": {},
     "output_type": "execute_result"
    }
   ],
   "source": [
    "pool1 = pool(conv3, (2,2), 1, initPool)\n",
    "pool1 == poolExpected"
   ]
  },
  {
   "cell_type": "markdown",
   "metadata": {},
   "source": [
    "## Function testing for the case when image depth of conv image is more than 1"
   ]
  },
  {
   "cell_type": "code",
   "execution_count": 152,
   "metadata": {},
   "outputs": [],
   "source": [
    "def pool(conv, filSize, stride, initPool):\n",
    "    \n",
    "    \"\"\"\n",
    "    arguments: conv - convolution layer (depth, prev. depth, height, width)\n",
    "               filSize - size of pooling filter (height, width)\n",
    "               stride - number of slides in the x and y directions of the array per filter (int)\n",
    "    description: performs maxpooling over convolution inputs\n",
    "    returns: maxpool (depth, height, width)\n",
    "    \"\"\"\n",
    "    pool = initPool\n",
    "    convDepth, convHeight, convWidth = conv.shape\n",
    "    \n",
    "    _, heightImages,widthImages = pool.shape\n",
    "    filHeight, filWidth = filSize\n",
    "            \n",
    "    for i in range(convDepth):\n",
    "        height = 0\n",
    "        for j in range(heightImages):\n",
    "            width = 0\n",
    "            for k in range(widthImages):\n",
    "                temp = conv[i,height:height+filHeight,width:width+filWidth]\n",
    "                pool[i,j,k] = np.max(temp)                    \n",
    "                width+=stride\n",
    "            height+=stride\n",
    "    return pool"
   ]
  },
  {
   "cell_type": "code",
   "execution_count": 153,
   "metadata": {},
   "outputs": [
    {
     "data": {
      "text/plain": [
       "array([[[-0.3,  0. , -1.4],\n",
       "        [ 0.3,  0.8, -0.9],\n",
       "        [ 0.4, -1.3, -0. ]],\n",
       "\n",
       "       [[-1.6,  1.1,  0.4],\n",
       "        [-0. , -0.8,  1.3],\n",
       "        [ 2. , -1.9,  1.2]],\n",
       "\n",
       "       [[ 1.6,  0.3, -1.2],\n",
       "        [ 0.9, -0.2, -0.6],\n",
       "        [-1.2,  0.6,  0.8]]])"
      ]
     },
     "execution_count": 153,
     "metadata": {},
     "output_type": "execute_result"
    }
   ],
   "source": [
    "conv4 = np.random.randn(3, 3, 3)\n",
    "conv4 = np.round(conv4, 1)\n",
    "conv4"
   ]
  },
  {
   "cell_type": "code",
   "execution_count": 154,
   "metadata": {},
   "outputs": [],
   "source": [
    "# define pooling filter size and stride, and  initialize output\n",
    "\n",
    "convDepth, convHeight, convWidth = conv4.shape\n",
    "filterHeight = filterWidth = 2\n",
    "stride = 1\n",
    "\n",
    "poolHeight = poolWidth = (convHeight - filterHeight)/stride + 1\n",
    "\n",
    "if poolHeight.is_integer() == False:\n",
    "    raise NotImplementedError\n",
    "else:\n",
    "    poolHeight = int(poolHeight)\n",
    "    poolWidth = int(poolWidth)\n",
    "\n",
    "initPool = np.zeros((convDepth,poolHeight,poolWidth))"
   ]
  },
  {
   "cell_type": "code",
   "execution_count": 155,
   "metadata": {},
   "outputs": [],
   "source": [
    "poolExpected = [[[0.8, 0.8],\n",
    "                [0.8, 0.8]],\n",
    "               [[1.1, 1.3],\n",
    "                [2., 1.3]],\n",
    "               [[1.6, 0.3],\n",
    "                [0.9, 0.8]]]"
   ]
  },
  {
   "cell_type": "code",
   "execution_count": 156,
   "metadata": {},
   "outputs": [
    {
     "data": {
      "text/plain": [
       "array([[[ True,  True],\n",
       "        [ True,  True]],\n",
       "\n",
       "       [[ True,  True],\n",
       "        [ True,  True]],\n",
       "\n",
       "       [[ True,  True],\n",
       "        [ True,  True]]])"
      ]
     },
     "execution_count": 156,
     "metadata": {},
     "output_type": "execute_result"
    }
   ],
   "source": [
    "pool2 = pool(conv4, (2,2), 1, initPool)\n",
    "pool2 == poolExpected\n"
   ]
  },
  {
   "cell_type": "code",
   "execution_count": null,
   "metadata": {},
   "outputs": [],
   "source": []
  }
 ],
 "metadata": {
  "kernelspec": {
   "display_name": "Python 3",
   "language": "python",
   "name": "python3"
  },
  "language_info": {
   "codemirror_mode": {
    "name": "ipython",
    "version": 3
   },
   "file_extension": ".py",
   "mimetype": "text/x-python",
   "name": "python",
   "nbconvert_exporter": "python",
   "pygments_lexer": "ipython3",
   "version": "3.7.1"
  }
 },
 "nbformat": 4,
 "nbformat_minor": 2
}
